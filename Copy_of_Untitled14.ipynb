{
  "nbformat": 4,
  "nbformat_minor": 0,
  "metadata": {
    "colab": {
      "provenance": [],
      "authorship_tag": "ABX9TyOkBfZvpItxR7h4mCK6k90o",
      "include_colab_link": true
    },
    "kernelspec": {
      "name": "python3",
      "display_name": "Python 3"
    },
    "language_info": {
      "name": "python"
    }
  },
  "cells": [
    {
      "cell_type": "markdown",
      "metadata": {
        "id": "view-in-github",
        "colab_type": "text"
      },
      "source": [
        "<a href=\"https://colab.research.google.com/github/Annu1782003/task4/blob/main/Copy_of_Untitled14.ipynb\" target=\"_parent\"><img src=\"https://colab.research.google.com/assets/colab-badge.svg\" alt=\"Open In Colab\"/></a>"
      ]
    },
    {
      "cell_type": "code",
      "source": [
        "!mkdir -p ~/.kaggle\n",
        "!cp kaggle.json ~/.kaggle/\n",
        "!chmod 600 ~/.kaggle/kaggle.json"
      ],
      "metadata": {
        "id": "6ZiAwxfN7f5q"
      },
      "execution_count": null,
      "outputs": []
    },
    {
      "cell_type": "code",
      "source": [
        "!kaggle datasets download -d asaniczka/reddit-on-israel-palestine-daily-updated"
      ],
      "metadata": {
        "colab": {
          "base_uri": "https://localhost:8080/"
        },
        "id": "Qv9tjGJq7rfA",
        "outputId": "80472c90-a7d7-41db-896f-1c121d761d01"
      },
      "execution_count": null,
      "outputs": [
        {
          "output_type": "stream",
          "name": "stdout",
          "text": [
            "Downloading reddit-on-israel-palestine-daily-updated.zip to /content\n",
            " 99% 462M/466M [00:08<00:00, 85.9MB/s]\n",
            "100% 466M/466M [00:08<00:00, 56.0MB/s]\n"
          ]
        }
      ]
    },
    {
      "cell_type": "code",
      "source": [
        "from zipfile import ZipFile\n",
        "dataset = '/content/reddit-on-israel-palestine-daily-updated.zip'\n",
        "with ZipFile(dataset,'r') as zip:\n",
        "  zip.extractall()\n",
        "  print('The dataset is extracted')"
      ],
      "metadata": {
        "colab": {
          "base_uri": "https://localhost:8080/"
        },
        "id": "oIbHrlSp9n4P",
        "outputId": "052a0e80-104f-4456-eee1-84727ce8ea14"
      },
      "execution_count": null,
      "outputs": [
        {
          "output_type": "stream",
          "name": "stdout",
          "text": [
            "The dataset is extracted\n"
          ]
        }
      ]
    },
    {
      "cell_type": "code",
      "source": [
        "import numpy as np\n",
        "import pandas as pd\n",
        "import re\n",
        "from nltk.corpus import stopwords\n",
        "from nltk.stem.porter import PorterStemmer\n",
        "from sklearn.feature_extraction.text import TfidfVectorizer\n",
        "from sklearn.model_selection import train_test_split\n",
        "from sklearn.linear_model import LogisticRegression\n",
        "from sklearn.metrics import accuracy_score"
      ],
      "metadata": {
        "id": "5QoOtdRY9_SJ"
      },
      "execution_count": null,
      "outputs": []
    },
    {
      "cell_type": "code",
      "source": [
        "import nltk\n",
        "nltk.download(\"stopwords\")"
      ],
      "metadata": {
        "colab": {
          "base_uri": "https://localhost:8080/"
        },
        "id": "MrjhwZaN-Len",
        "outputId": "ec7dcc46-a0b5-4a74-99b7-7702d0ae1fa0"
      },
      "execution_count": null,
      "outputs": [
        {
          "output_type": "stream",
          "name": "stderr",
          "text": [
            "[nltk_data] Downloading package stopwords to /root/nltk_data...\n",
            "[nltk_data]   Unzipping corpora/stopwords.zip.\n"
          ]
        },
        {
          "output_type": "execute_result",
          "data": {
            "text/plain": [
              "True"
            ]
          },
          "metadata": {},
          "execution_count": 7
        }
      ]
    },
    {
      "cell_type": "code",
      "source": [
        "print(stopwords.words('english'))"
      ],
      "metadata": {
        "colab": {
          "base_uri": "https://localhost:8080/"
        },
        "id": "q_2ouobt-U66",
        "outputId": "76410a43-da4b-4218-8050-c277e4ffa260"
      },
      "execution_count": null,
      "outputs": [
        {
          "output_type": "stream",
          "name": "stdout",
          "text": [
            "['i', 'me', 'my', 'myself', 'we', 'our', 'ours', 'ourselves', 'you', \"you're\", \"you've\", \"you'll\", \"you'd\", 'your', 'yours', 'yourself', 'yourselves', 'he', 'him', 'his', 'himself', 'she', \"she's\", 'her', 'hers', 'herself', 'it', \"it's\", 'its', 'itself', 'they', 'them', 'their', 'theirs', 'themselves', 'what', 'which', 'who', 'whom', 'this', 'that', \"that'll\", 'these', 'those', 'am', 'is', 'are', 'was', 'were', 'be', 'been', 'being', 'have', 'has', 'had', 'having', 'do', 'does', 'did', 'doing', 'a', 'an', 'the', 'and', 'but', 'if', 'or', 'because', 'as', 'until', 'while', 'of', 'at', 'by', 'for', 'with', 'about', 'against', 'between', 'into', 'through', 'during', 'before', 'after', 'above', 'below', 'to', 'from', 'up', 'down', 'in', 'out', 'on', 'off', 'over', 'under', 'again', 'further', 'then', 'once', 'here', 'there', 'when', 'where', 'why', 'how', 'all', 'any', 'both', 'each', 'few', 'more', 'most', 'other', 'some', 'such', 'no', 'nor', 'not', 'only', 'own', 'same', 'so', 'than', 'too', 'very', 's', 't', 'can', 'will', 'just', 'don', \"don't\", 'should', \"should've\", 'now', 'd', 'll', 'm', 'o', 're', 've', 'y', 'ain', 'aren', \"aren't\", 'couldn', \"couldn't\", 'didn', \"didn't\", 'doesn', \"doesn't\", 'hadn', \"hadn't\", 'hasn', \"hasn't\", 'haven', \"haven't\", 'isn', \"isn't\", 'ma', 'mightn', \"mightn't\", 'mustn', \"mustn't\", 'needn', \"needn't\", 'shan', \"shan't\", 'shouldn', \"shouldn't\", 'wasn', \"wasn't\", 'weren', \"weren't\", 'won', \"won't\", 'wouldn', \"wouldn't\"]\n"
          ]
        }
      ]
    },
    {
      "cell_type": "code",
      "source": [
        "reddit_data = pd.read_csv('/content/reddit_opinion_PSE_ISR.csv', encoding = 'ISO-8859-1')"
      ],
      "metadata": {
        "colab": {
          "base_uri": "https://localhost:8080/"
        },
        "id": "-tvevpin_BHR",
        "outputId": "9124bf55-291c-4b72-c105-a776b555fe90"
      },
      "execution_count": null,
      "outputs": [
        {
          "output_type": "stream",
          "name": "stderr",
          "text": [
            "<ipython-input-9-e06255c920f9>:1: DtypeWarning: Columns (10) have mixed types. Specify dtype option on import or set low_memory=False.\n",
            "  reddit_data = pd.read_csv('/content/reddit_opinion_PSE_ISR.csv', encoding = 'ISO-8859-1')\n"
          ]
        }
      ]
    },
    {
      "cell_type": "code",
      "source": [
        "reddit_data.shape"
      ],
      "metadata": {
        "colab": {
          "base_uri": "https://localhost:8080/"
        },
        "id": "yiBNoWR4_h-1",
        "outputId": "e005512c-60b6-4a9c-f5e7-aa858bd4ea34"
      },
      "execution_count": null,
      "outputs": [
        {
          "output_type": "execute_result",
          "data": {
            "text/plain": [
              "(1138801, 24)"
            ]
          },
          "metadata": {},
          "execution_count": 10
        }
      ]
    },
    {
      "cell_type": "code",
      "source": [
        "reddit_data.head()"
      ],
      "metadata": {
        "colab": {
          "base_uri": "https://localhost:8080/",
          "height": 643
        },
        "id": "WKwleRTn_mJ0",
        "outputId": "577f7838-6da3-4f8e-932d-d5420e4cec82"
      },
      "execution_count": null,
      "outputs": [
        {
          "output_type": "execute_result",
          "data": {
            "text/plain": [
              "                                                                                                                                                                                                                                                        comment id  \\\n",
              "comment_id score self_text                                          subreddit          created_time        post_id author_name        controversiality ups downs user_is_verified user_account_created_time user_awardee_karma user_awarder_karma  user_link_karma   \n",
              "kyctini    1     Youch... if the pushback services are provided ... worldnews          2024-04-06 18:18:49 1bxi4d6 Ehldas             0                1   0     True             2014-04-22 23:13:18       4000.0             0.0                          1587.0   \n",
              "kycth3i    1     Do you think if turks where the victims arabs w... AskMiddleEast      2024-04-06 18:18:33 1bxf7l2 Practical_Ant_4617 0                1   0     True             2024-04-01 04:03:56       0.0                0.0                             7.0   \n",
              "kyctg9w    1     Fuck off cleanshirt                                CrazyFuckingVideos 2024-04-06 18:18:25 1bx9u9o donkey_hat         0                1   0     True             2013-04-19 05:51:23       0.0                0.0                           628.0   \n",
              "kyctfmu    1     [https://www.onondaganation.org/culture/wampum/... IsraelPalestine    2024-04-06 18:18:19 1bvmz1t ZhaawGwa           0                1   0     True             2024-02-15 22:27:15       0.0                0.0                             1.0   \n",
              "\n",
              "                                                                                                                                                                                                                                                                score  \\\n",
              "comment_id score self_text                                          subreddit          created_time        post_id author_name        controversiality ups downs user_is_verified user_account_created_time user_awardee_karma user_awarder_karma  user_comment_karma   \n",
              "kyctini    1     Youch... if the pushback services are provided ... worldnews          2024-04-06 18:18:49 1bxi4d6 Ehldas             0                1   0     True             2014-04-22 23:13:18       4000.0             0.0                           444662.0   \n",
              "kycth3i    1     Do you think if turks where the victims arabs w... AskMiddleEast      2024-04-06 18:18:33 1bxf7l2 Practical_Ant_4617 0                1   0     True             2024-04-01 04:03:56       0.0                0.0                              109.0   \n",
              "kyctg9w    1     Fuck off cleanshirt                                CrazyFuckingVideos 2024-04-06 18:18:25 1bx9u9o donkey_hat         0                1   0     True             2013-04-19 05:51:23       0.0                0.0                             8705.0   \n",
              "kyctfmu    1     [https://www.onondaganation.org/culture/wampum/... IsraelPalestine    2024-04-06 18:18:19 1bvmz1t ZhaawGwa           0                1   0     True             2024-02-15 22:27:15       0.0                0.0                              147.0   \n",
              "\n",
              "                                                                                                                                                                                                                                                          self text  \\\n",
              "comment_id score self_text                                          subreddit          created_time        post_id author_name        controversiality ups downs user_is_verified user_account_created_time user_awardee_karma user_awarder_karma  user_total_karma   \n",
              "kyctini    1     Youch... if the pushback services are provided ... worldnews          2024-04-06 18:18:49 1bxi4d6 Ehldas             0                1   0     True             2014-04-22 23:13:18       4000.0             0.0                         450249.0   \n",
              "kycth3i    1     Do you think if turks where the victims arabs w... AskMiddleEast      2024-04-06 18:18:33 1bxf7l2 Practical_Ant_4617 0                1   0     True             2024-04-01 04:03:56       0.0                0.0                            116.0   \n",
              "kyctg9w    1     Fuck off cleanshirt                                CrazyFuckingVideos 2024-04-06 18:18:25 1bx9u9o donkey_hat         0                1   0     True             2013-04-19 05:51:23       0.0                0.0                           9333.0   \n",
              "kyctfmu    1     [https://www.onondaganation.org/culture/wampum/... IsraelPalestine    2024-04-06 18:18:19 1bvmz1t ZhaawGwa           0                1   0     True             2024-02-15 22:27:15       0.0                0.0                            148.0   \n",
              "\n",
              "                                                                                                                                                                                                                                                    subreddit  \\\n",
              "comment_id score self_text                                          subreddit          created_time        post_id author_name        controversiality ups downs user_is_verified user_account_created_time user_awardee_karma user_awarder_karma  post_score   \n",
              "kyctini    1     Youch... if the pushback services are provided ... worldnews          2024-04-06 18:18:49 1bxi4d6 Ehldas             0                1   0     True             2014-04-22 23:13:18       4000.0             0.0                          4   \n",
              "kycth3i    1     Do you think if turks where the victims arabs w... AskMiddleEast      2024-04-06 18:18:33 1bxf7l2 Practical_Ant_4617 0                1   0     True             2024-04-01 04:03:56       0.0                0.0                         84   \n",
              "kyctg9w    1     Fuck off cleanshirt                                CrazyFuckingVideos 2024-04-06 18:18:25 1bx9u9o donkey_hat         0                1   0     True             2013-04-19 05:51:23       0.0                0.0                        420   \n",
              "kyctfmu    1     [https://www.onondaganation.org/culture/wampum/... IsraelPalestine    2024-04-06 18:18:19 1bvmz1t ZhaawGwa           0                1   0     True             2024-02-15 22:27:15       0.0                0.0                          0   \n",
              "\n",
              "                                                                                                                                                                                                                                                                                        created time  \\\n",
              "comment_id score self_text                                          subreddit          created_time        post_id author_name        controversiality ups downs user_is_verified user_account_created_time user_awardee_karma user_awarder_karma                                     post_self_text   \n",
              "kyctini    1     Youch... if the pushback services are provided ... worldnews          2024-04-06 18:18:49 1bxi4d6 Ehldas             0                1   0     True             2014-04-22 23:13:18       4000.0             0.0                                                               NaN   \n",
              "kycth3i    1     Do you think if turks where the victims arabs w... AskMiddleEast      2024-04-06 18:18:33 1bxf7l2 Practical_Ant_4617 0                1   0     True             2024-04-01 04:03:56       0.0                0.0                                                               NaN   \n",
              "kyctg9w    1     Fuck off cleanshirt                                CrazyFuckingVideos 2024-04-06 18:18:25 1bx9u9o donkey_hat         0                1   0     True             2013-04-19 05:51:23       0.0                0.0                                                               NaN   \n",
              "kyctfmu    1     [https://www.onondaganation.org/culture/wampum/... IsraelPalestine    2024-04-06 18:18:19 1bvmz1t ZhaawGwa           0                1   0     True             2024-02-15 22:27:15       0.0                0.0                 Now i am sure im about to be attacked for sayi...   \n",
              "\n",
              "                                                                                                                                                                                                                                                                                             post id  \\\n",
              "comment_id score self_text                                          subreddit          created_time        post_id author_name        controversiality ups downs user_is_verified user_account_created_time user_awardee_karma user_awarder_karma                                         post_title   \n",
              "kyctini    1     Youch... if the pushback services are provided ... worldnews          2024-04-06 18:18:49 1bxi4d6 Ehldas             0                1   0     True             2014-04-22 23:13:18       4000.0             0.0                 Two planes at Heathrow Airport collide on the ...   \n",
              "kycth3i    1     Do you think if turks where the victims arabs w... AskMiddleEast      2024-04-06 18:18:33 1bxf7l2 Practical_Ant_4617 0                1   0     True             2024-04-01 04:03:56       0.0                0.0                 Turkish police brutally arresting citizens pro...   \n",
              "kyctg9w    1     Fuck off cleanshirt                                CrazyFuckingVideos 2024-04-06 18:18:25 1bx9u9o donkey_hat         0                1   0     True             2013-04-19 05:51:23       0.0                0.0                 Feral kids terrorise security guard in UK and ...   \n",
              "kyctfmu    1     [https://www.onondaganation.org/culture/wampum/... IsraelPalestine    2024-04-06 18:18:19 1bvmz1t ZhaawGwa           0                1   0     True             2024-02-15 22:27:15       0.0                0.0                                           Why should israel care    \n",
              "\n",
              "                                                                                                                                                                                                                                                         author name  \\\n",
              "comment_id score self_text                                          subreddit          created_time        post_id author_name        controversiality ups downs user_is_verified user_account_created_time user_awardee_karma user_awarder_karma  post_upvote_ratio   \n",
              "kyctini    1     Youch... if the pushback services are provided ... worldnews          2024-04-06 18:18:49 1bxi4d6 Ehldas             0                1   0     True             2014-04-22 23:13:18       4000.0             0.0                               1.0   \n",
              "kycth3i    1     Do you think if turks where the victims arabs w... AskMiddleEast      2024-04-06 18:18:33 1bxf7l2 Practical_Ant_4617 0                1   0     True             2024-04-01 04:03:56       0.0                0.0                              0.91   \n",
              "kyctg9w    1     Fuck off cleanshirt                                CrazyFuckingVideos 2024-04-06 18:18:25 1bx9u9o donkey_hat         0                1   0     True             2013-04-19 05:51:23       0.0                0.0                              0.94   \n",
              "kyctfmu    1     [https://www.onondaganation.org/culture/wampum/... IsraelPalestine    2024-04-06 18:18:19 1bvmz1t ZhaawGwa           0                1   0     True             2024-02-15 22:27:15       0.0                0.0                              0.34   \n",
              "\n",
              "                                                                                                                                                                                                                                                   controversialty  \\\n",
              "comment_id score self_text                                          subreddit          created_time        post_id author_name        controversiality ups downs user_is_verified user_account_created_time user_awardee_karma user_awarder_karma  post_thumbs_ups   \n",
              "kyctini    1     Youch... if the pushback services are provided ... worldnews          2024-04-06 18:18:49 1bxi4d6 Ehldas             0                1   0     True             2014-04-22 23:13:18       4000.0             0.0                               4   \n",
              "kycth3i    1     Do you think if turks where the victims arabs w... AskMiddleEast      2024-04-06 18:18:33 1bxf7l2 Practical_Ant_4617 0                1   0     True             2024-04-01 04:03:56       0.0                0.0                              84   \n",
              "kyctg9w    1     Fuck off cleanshirt                                CrazyFuckingVideos 2024-04-06 18:18:25 1bx9u9o donkey_hat         0                1   0     True             2013-04-19 05:51:23       0.0                0.0                             420   \n",
              "kyctfmu    1     [https://www.onondaganation.org/culture/wampum/... IsraelPalestine    2024-04-06 18:18:19 1bvmz1t ZhaawGwa           0                1   0     True             2024-02-15 22:27:15       0.0                0.0                               0   \n",
              "\n",
              "                                                                                                                                                                                                                                                                          ups  \\\n",
              "comment_id score self_text                                          subreddit          created_time        post_id author_name        controversiality ups downs user_is_verified user_account_created_time user_awardee_karma user_awarder_karma  post_total_awards_received   \n",
              "kyctini    1     Youch... if the pushback services are provided ... worldnews          2024-04-06 18:18:49 1bxi4d6 Ehldas             0                1   0     True             2014-04-22 23:13:18       4000.0             0.0                                          0   \n",
              "kycth3i    1     Do you think if turks where the victims arabs w... AskMiddleEast      2024-04-06 18:18:33 1bxf7l2 Practical_Ant_4617 0                1   0     True             2024-04-01 04:03:56       0.0                0.0                                          0   \n",
              "kyctg9w    1     Fuck off cleanshirt                                CrazyFuckingVideos 2024-04-06 18:18:25 1bx9u9o donkey_hat         0                1   0     True             2013-04-19 05:51:23       0.0                0.0                                          0   \n",
              "kyctfmu    1     [https://www.onondaganation.org/culture/wampum/... IsraelPalestine    2024-04-06 18:18:19 1bvmz1t ZhaawGwa           0                1   0     True             2024-02-15 22:27:15       0.0                0.0                                          0   \n",
              "\n",
              "                                                                                                                                                                                                                                                                 downs  \n",
              "comment_id score self_text                                          subreddit          created_time        post_id author_name        controversiality ups downs user_is_verified user_account_created_time user_awardee_karma user_awarder_karma    post_created_time  \n",
              "kyctini    1     Youch... if the pushback services are provided ... worldnews          2024-04-06 18:18:49 1bxi4d6 Ehldas             0                1   0     True             2014-04-22 23:13:18       4000.0             0.0                 2024-04-06 18:11:21  \n",
              "kycth3i    1     Do you think if turks where the victims arabs w... AskMiddleEast      2024-04-06 18:18:33 1bxf7l2 Practical_Ant_4617 0                1   0     True             2024-04-01 04:03:56       0.0                0.0                 2024-04-06 16:09:00  \n",
              "kyctg9w    1     Fuck off cleanshirt                                CrazyFuckingVideos 2024-04-06 18:18:25 1bx9u9o donkey_hat         0                1   0     True             2013-04-19 05:51:23       0.0                0.0                 2024-04-06 12:00:48  \n",
              "kyctfmu    1     [https://www.onondaganation.org/culture/wampum/... IsraelPalestine    2024-04-06 18:18:19 1bvmz1t ZhaawGwa           0                1   0     True             2024-02-15 22:27:15       0.0                0.0                 2024-04-04 13:20:56  "
            ],
            "text/html": [
              "\n",
              "  <div id=\"df-a12b0462-757a-47c1-ad99-64c9cdb15c1d\" class=\"colab-df-container\">\n",
              "    <div>\n",
              "<style scoped>\n",
              "    .dataframe tbody tr th:only-of-type {\n",
              "        vertical-align: middle;\n",
              "    }\n",
              "\n",
              "    .dataframe tbody tr th {\n",
              "        vertical-align: top;\n",
              "    }\n",
              "\n",
              "    .dataframe thead th {\n",
              "        text-align: right;\n",
              "    }\n",
              "</style>\n",
              "<table border=\"1\" class=\"dataframe\">\n",
              "  <thead>\n",
              "    <tr style=\"text-align: right;\">\n",
              "      <th></th>\n",
              "      <th></th>\n",
              "      <th></th>\n",
              "      <th></th>\n",
              "      <th></th>\n",
              "      <th></th>\n",
              "      <th></th>\n",
              "      <th></th>\n",
              "      <th></th>\n",
              "      <th></th>\n",
              "      <th></th>\n",
              "      <th></th>\n",
              "      <th></th>\n",
              "      <th></th>\n",
              "      <th>comment id</th>\n",
              "      <th>score</th>\n",
              "      <th>self text</th>\n",
              "      <th>subreddit</th>\n",
              "      <th>created time</th>\n",
              "      <th>post id</th>\n",
              "      <th>author name</th>\n",
              "      <th>controversialty</th>\n",
              "      <th>ups</th>\n",
              "      <th>downs</th>\n",
              "    </tr>\n",
              "  </thead>\n",
              "  <tbody>\n",
              "    <tr>\n",
              "      <th>comment_id</th>\n",
              "      <th>score</th>\n",
              "      <th>self_text</th>\n",
              "      <th>subreddit</th>\n",
              "      <th>created_time</th>\n",
              "      <th>post_id</th>\n",
              "      <th>author_name</th>\n",
              "      <th>controversiality</th>\n",
              "      <th>ups</th>\n",
              "      <th>downs</th>\n",
              "      <th>user_is_verified</th>\n",
              "      <th>user_account_created_time</th>\n",
              "      <th>user_awardee_karma</th>\n",
              "      <th>user_awarder_karma</th>\n",
              "      <td>user_link_karma</td>\n",
              "      <td>user_comment_karma</td>\n",
              "      <td>user_total_karma</td>\n",
              "      <td>post_score</td>\n",
              "      <td>post_self_text</td>\n",
              "      <td>post_title</td>\n",
              "      <td>post_upvote_ratio</td>\n",
              "      <td>post_thumbs_ups</td>\n",
              "      <td>post_total_awards_received</td>\n",
              "      <td>post_created_time</td>\n",
              "    </tr>\n",
              "    <tr>\n",
              "      <th>kyctini</th>\n",
              "      <th>1</th>\n",
              "      <th>Youch... if the pushback services are provided directly by Heathrow, then that's their error and their expense.</th>\n",
              "      <th>worldnews</th>\n",
              "      <th>2024-04-06 18:18:49</th>\n",
              "      <th>1bxi4d6</th>\n",
              "      <th>Ehldas</th>\n",
              "      <th>0</th>\n",
              "      <th>1</th>\n",
              "      <th>0</th>\n",
              "      <th>True</th>\n",
              "      <th>2014-04-22 23:13:18</th>\n",
              "      <th>4000.0</th>\n",
              "      <th>0.0</th>\n",
              "      <td>1587.0</td>\n",
              "      <td>444662.0</td>\n",
              "      <td>450249.0</td>\n",
              "      <td>4</td>\n",
              "      <td>NaN</td>\n",
              "      <td>Two planes at Heathrow Airport collide on the ...</td>\n",
              "      <td>1.0</td>\n",
              "      <td>4</td>\n",
              "      <td>0</td>\n",
              "      <td>2024-04-06 18:11:21</td>\n",
              "    </tr>\n",
              "    <tr>\n",
              "      <th>kycth3i</th>\n",
              "      <th>1</th>\n",
              "      <th>Do you think if turks where the victims arabs wouldn't care do you think they dont care about turkey ? the earth quake millions donated , the lira fall everyone went to turkey for tourism to support the economy , whenever we see a turkish product vs the chinese one we buy the turkish for the massacre in xinjang the uyghurs , the karabagh war everyone cheered for azerbaijan and protested the support of armenia it's ummah problems not arab problems</th>\n",
              "      <th>AskMiddleEast</th>\n",
              "      <th>2024-04-06 18:18:33</th>\n",
              "      <th>1bxf7l2</th>\n",
              "      <th>Practical_Ant_4617</th>\n",
              "      <th>0</th>\n",
              "      <th>1</th>\n",
              "      <th>0</th>\n",
              "      <th>True</th>\n",
              "      <th>2024-04-01 04:03:56</th>\n",
              "      <th>0.0</th>\n",
              "      <th>0.0</th>\n",
              "      <td>7.0</td>\n",
              "      <td>109.0</td>\n",
              "      <td>116.0</td>\n",
              "      <td>84</td>\n",
              "      <td>NaN</td>\n",
              "      <td>Turkish police brutally arresting citizens pro...</td>\n",
              "      <td>0.91</td>\n",
              "      <td>84</td>\n",
              "      <td>0</td>\n",
              "      <td>2024-04-06 16:09:00</td>\n",
              "    </tr>\n",
              "    <tr>\n",
              "      <th>kyctg9w</th>\n",
              "      <th>1</th>\n",
              "      <th>Fuck off cleanshirt</th>\n",
              "      <th>CrazyFuckingVideos</th>\n",
              "      <th>2024-04-06 18:18:25</th>\n",
              "      <th>1bx9u9o</th>\n",
              "      <th>donkey_hat</th>\n",
              "      <th>0</th>\n",
              "      <th>1</th>\n",
              "      <th>0</th>\n",
              "      <th>True</th>\n",
              "      <th>2013-04-19 05:51:23</th>\n",
              "      <th>0.0</th>\n",
              "      <th>0.0</th>\n",
              "      <td>628.0</td>\n",
              "      <td>8705.0</td>\n",
              "      <td>9333.0</td>\n",
              "      <td>420</td>\n",
              "      <td>NaN</td>\n",
              "      <td>Feral kids terrorise security guard in UK and ...</td>\n",
              "      <td>0.94</td>\n",
              "      <td>420</td>\n",
              "      <td>0</td>\n",
              "      <td>2024-04-06 12:00:48</td>\n",
              "    </tr>\n",
              "    <tr>\n",
              "      <th>kyctfmu</th>\n",
              "      <th>1</th>\n",
              "      <th>[https://www.onondaganation.org/culture/wampum/two-row-wampum-belt-guswenta/](https://www.onondaganation.org/culture/wampum/two-row-wampum-belt-guswenta/)  \\n\\n\\nThis is why they should care</th>\n",
              "      <th>IsraelPalestine</th>\n",
              "      <th>2024-04-06 18:18:19</th>\n",
              "      <th>1bvmz1t</th>\n",
              "      <th>ZhaawGwa</th>\n",
              "      <th>0</th>\n",
              "      <th>1</th>\n",
              "      <th>0</th>\n",
              "      <th>True</th>\n",
              "      <th>2024-02-15 22:27:15</th>\n",
              "      <th>0.0</th>\n",
              "      <th>0.0</th>\n",
              "      <td>1.0</td>\n",
              "      <td>147.0</td>\n",
              "      <td>148.0</td>\n",
              "      <td>0</td>\n",
              "      <td>Now i am sure im about to be attacked for sayi...</td>\n",
              "      <td>Why should israel care</td>\n",
              "      <td>0.34</td>\n",
              "      <td>0</td>\n",
              "      <td>0</td>\n",
              "      <td>2024-04-04 13:20:56</td>\n",
              "    </tr>\n",
              "  </tbody>\n",
              "</table>\n",
              "</div>\n",
              "    <div class=\"colab-df-buttons\">\n",
              "\n",
              "  <div class=\"colab-df-container\">\n",
              "    <button class=\"colab-df-convert\" onclick=\"convertToInteractive('df-a12b0462-757a-47c1-ad99-64c9cdb15c1d')\"\n",
              "            title=\"Convert this dataframe to an interactive table.\"\n",
              "            style=\"display:none;\">\n",
              "\n",
              "  <svg xmlns=\"http://www.w3.org/2000/svg\" height=\"24px\" viewBox=\"0 -960 960 960\">\n",
              "    <path d=\"M120-120v-720h720v720H120Zm60-500h600v-160H180v160Zm220 220h160v-160H400v160Zm0 220h160v-160H400v160ZM180-400h160v-160H180v160Zm440 0h160v-160H620v160ZM180-180h160v-160H180v160Zm440 0h160v-160H620v160Z\"/>\n",
              "  </svg>\n",
              "    </button>\n",
              "\n",
              "  <style>\n",
              "    .colab-df-container {\n",
              "      display:flex;\n",
              "      gap: 12px;\n",
              "    }\n",
              "\n",
              "    .colab-df-convert {\n",
              "      background-color: #E8F0FE;\n",
              "      border: none;\n",
              "      border-radius: 50%;\n",
              "      cursor: pointer;\n",
              "      display: none;\n",
              "      fill: #1967D2;\n",
              "      height: 32px;\n",
              "      padding: 0 0 0 0;\n",
              "      width: 32px;\n",
              "    }\n",
              "\n",
              "    .colab-df-convert:hover {\n",
              "      background-color: #E2EBFA;\n",
              "      box-shadow: 0px 1px 2px rgba(60, 64, 67, 0.3), 0px 1px 3px 1px rgba(60, 64, 67, 0.15);\n",
              "      fill: #174EA6;\n",
              "    }\n",
              "\n",
              "    .colab-df-buttons div {\n",
              "      margin-bottom: 4px;\n",
              "    }\n",
              "\n",
              "    [theme=dark] .colab-df-convert {\n",
              "      background-color: #3B4455;\n",
              "      fill: #D2E3FC;\n",
              "    }\n",
              "\n",
              "    [theme=dark] .colab-df-convert:hover {\n",
              "      background-color: #434B5C;\n",
              "      box-shadow: 0px 1px 3px 1px rgba(0, 0, 0, 0.15);\n",
              "      filter: drop-shadow(0px 1px 2px rgba(0, 0, 0, 0.3));\n",
              "      fill: #FFFFFF;\n",
              "    }\n",
              "  </style>\n",
              "\n",
              "    <script>\n",
              "      const buttonEl =\n",
              "        document.querySelector('#df-a12b0462-757a-47c1-ad99-64c9cdb15c1d button.colab-df-convert');\n",
              "      buttonEl.style.display =\n",
              "        google.colab.kernel.accessAllowed ? 'block' : 'none';\n",
              "\n",
              "      async function convertToInteractive(key) {\n",
              "        const element = document.querySelector('#df-a12b0462-757a-47c1-ad99-64c9cdb15c1d');\n",
              "        const dataTable =\n",
              "          await google.colab.kernel.invokeFunction('convertToInteractive',\n",
              "                                                    [key], {});\n",
              "        if (!dataTable) return;\n",
              "\n",
              "        const docLinkHtml = 'Like what you see? Visit the ' +\n",
              "          '<a target=\"_blank\" href=https://colab.research.google.com/notebooks/data_table.ipynb>data table notebook</a>'\n",
              "          + ' to learn more about interactive tables.';\n",
              "        element.innerHTML = '';\n",
              "        dataTable['output_type'] = 'display_data';\n",
              "        await google.colab.output.renderOutput(dataTable, element);\n",
              "        const docLink = document.createElement('div');\n",
              "        docLink.innerHTML = docLinkHtml;\n",
              "        element.appendChild(docLink);\n",
              "      }\n",
              "    </script>\n",
              "  </div>\n",
              "\n",
              "\n",
              "<div id=\"df-08bc131a-6bc8-49a6-b4c0-471931d32ec4\">\n",
              "  <button class=\"colab-df-quickchart\" onclick=\"quickchart('df-08bc131a-6bc8-49a6-b4c0-471931d32ec4')\"\n",
              "            title=\"Suggest charts\"\n",
              "            style=\"display:none;\">\n",
              "\n",
              "<svg xmlns=\"http://www.w3.org/2000/svg\" height=\"24px\"viewBox=\"0 0 24 24\"\n",
              "     width=\"24px\">\n",
              "    <g>\n",
              "        <path d=\"M19 3H5c-1.1 0-2 .9-2 2v14c0 1.1.9 2 2 2h14c1.1 0 2-.9 2-2V5c0-1.1-.9-2-2-2zM9 17H7v-7h2v7zm4 0h-2V7h2v10zm4 0h-2v-4h2v4z\"/>\n",
              "    </g>\n",
              "</svg>\n",
              "  </button>\n",
              "\n",
              "<style>\n",
              "  .colab-df-quickchart {\n",
              "      --bg-color: #E8F0FE;\n",
              "      --fill-color: #1967D2;\n",
              "      --hover-bg-color: #E2EBFA;\n",
              "      --hover-fill-color: #174EA6;\n",
              "      --disabled-fill-color: #AAA;\n",
              "      --disabled-bg-color: #DDD;\n",
              "  }\n",
              "\n",
              "  [theme=dark] .colab-df-quickchart {\n",
              "      --bg-color: #3B4455;\n",
              "      --fill-color: #D2E3FC;\n",
              "      --hover-bg-color: #434B5C;\n",
              "      --hover-fill-color: #FFFFFF;\n",
              "      --disabled-bg-color: #3B4455;\n",
              "      --disabled-fill-color: #666;\n",
              "  }\n",
              "\n",
              "  .colab-df-quickchart {\n",
              "    background-color: var(--bg-color);\n",
              "    border: none;\n",
              "    border-radius: 50%;\n",
              "    cursor: pointer;\n",
              "    display: none;\n",
              "    fill: var(--fill-color);\n",
              "    height: 32px;\n",
              "    padding: 0;\n",
              "    width: 32px;\n",
              "  }\n",
              "\n",
              "  .colab-df-quickchart:hover {\n",
              "    background-color: var(--hover-bg-color);\n",
              "    box-shadow: 0 1px 2px rgba(60, 64, 67, 0.3), 0 1px 3px 1px rgba(60, 64, 67, 0.15);\n",
              "    fill: var(--button-hover-fill-color);\n",
              "  }\n",
              "\n",
              "  .colab-df-quickchart-complete:disabled,\n",
              "  .colab-df-quickchart-complete:disabled:hover {\n",
              "    background-color: var(--disabled-bg-color);\n",
              "    fill: var(--disabled-fill-color);\n",
              "    box-shadow: none;\n",
              "  }\n",
              "\n",
              "  .colab-df-spinner {\n",
              "    border: 2px solid var(--fill-color);\n",
              "    border-color: transparent;\n",
              "    border-bottom-color: var(--fill-color);\n",
              "    animation:\n",
              "      spin 1s steps(1) infinite;\n",
              "  }\n",
              "\n",
              "  @keyframes spin {\n",
              "    0% {\n",
              "      border-color: transparent;\n",
              "      border-bottom-color: var(--fill-color);\n",
              "      border-left-color: var(--fill-color);\n",
              "    }\n",
              "    20% {\n",
              "      border-color: transparent;\n",
              "      border-left-color: var(--fill-color);\n",
              "      border-top-color: var(--fill-color);\n",
              "    }\n",
              "    30% {\n",
              "      border-color: transparent;\n",
              "      border-left-color: var(--fill-color);\n",
              "      border-top-color: var(--fill-color);\n",
              "      border-right-color: var(--fill-color);\n",
              "    }\n",
              "    40% {\n",
              "      border-color: transparent;\n",
              "      border-right-color: var(--fill-color);\n",
              "      border-top-color: var(--fill-color);\n",
              "    }\n",
              "    60% {\n",
              "      border-color: transparent;\n",
              "      border-right-color: var(--fill-color);\n",
              "    }\n",
              "    80% {\n",
              "      border-color: transparent;\n",
              "      border-right-color: var(--fill-color);\n",
              "      border-bottom-color: var(--fill-color);\n",
              "    }\n",
              "    90% {\n",
              "      border-color: transparent;\n",
              "      border-bottom-color: var(--fill-color);\n",
              "    }\n",
              "  }\n",
              "</style>\n",
              "\n",
              "  <script>\n",
              "    async function quickchart(key) {\n",
              "      const quickchartButtonEl =\n",
              "        document.querySelector('#' + key + ' button');\n",
              "      quickchartButtonEl.disabled = true;  // To prevent multiple clicks.\n",
              "      quickchartButtonEl.classList.add('colab-df-spinner');\n",
              "      try {\n",
              "        const charts = await google.colab.kernel.invokeFunction(\n",
              "            'suggestCharts', [key], {});\n",
              "      } catch (error) {\n",
              "        console.error('Error during call to suggestCharts:', error);\n",
              "      }\n",
              "      quickchartButtonEl.classList.remove('colab-df-spinner');\n",
              "      quickchartButtonEl.classList.add('colab-df-quickchart-complete');\n",
              "    }\n",
              "    (() => {\n",
              "      let quickchartButtonEl =\n",
              "        document.querySelector('#df-08bc131a-6bc8-49a6-b4c0-471931d32ec4 button');\n",
              "      quickchartButtonEl.style.display =\n",
              "        google.colab.kernel.accessAllowed ? 'block' : 'none';\n",
              "    })();\n",
              "  </script>\n",
              "</div>\n",
              "\n",
              "    </div>\n",
              "  </div>\n"
            ],
            "application/vnd.google.colaboratory.intrinsic+json": {
              "type": "dataframe",
              "variable_name": "reddit_data"
            }
          },
          "metadata": {},
          "execution_count": 13
        }
      ]
    },
    {
      "cell_type": "code",
      "source": [
        "reddit_data.isnull().sum()"
      ],
      "metadata": {
        "id": "Waeq7mosAn_w"
      },
      "execution_count": null,
      "outputs": []
    }
  ]
}